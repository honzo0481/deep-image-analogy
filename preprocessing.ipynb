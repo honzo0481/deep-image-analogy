{
 "cells": [
  {
   "cell_type": "code",
   "execution_count": null,
   "metadata": {},
   "outputs": [],
   "source": [
    "import matplotlib.pyplot as plt\n",
    "\n",
    "import numpy as np\n",
    "\n",
    "from keras.applications.vgg19 import VGG19\n",
    "from keras.preprocessing import image\n",
    "from keras.applications.vgg19 import preprocess_input\n",
    "from keras.models import Model\n",
    "\n",
    "from sklearn.feature_extraction.image import extract_patches_2d\n",
    "\n",
    "%matplotlib inline"
   ]
  },
  {
   "cell_type": "code",
   "execution_count": null,
   "metadata": {
    "collapsed": true
   },
   "outputs": [],
   "source": [
    "A_path ='images/2style2style/A1.png'\n",
    "img_A = image.load_img(A_path, target_size=(448, 448))\n",
    "\n",
    "A = image.img_to_array(img_A)\n",
    "A = np.expand_dims(A, axis=0)\n",
    "A = preprocess_input(A)"
   ]
  },
  {
   "cell_type": "code",
   "execution_count": null,
   "metadata": {
    "collapsed": true
   },
   "outputs": [],
   "source": [
    "Bp_path = 'images/2style2style/BP1.png'\n",
    "img_Bp = image.load_img(Bp_path, target_size=(448, 448))\n",
    "\n",
    "Bp = image.img_to_array(img_Bp)\n",
    "Bp = np.expand_dims(Bp, axis=0)\n",
    "Bp = preprocess_input(Bp)"
   ]
  },
  {
   "cell_type": "code",
   "execution_count": null,
   "metadata": {},
   "outputs": [],
   "source": [
    "vgg19 = VGG19(include_top=False, input_shape=(448, 448, 3))"
   ]
  },
  {
   "cell_type": "code",
   "execution_count": null,
   "metadata": {
    "collapsed": true
   },
   "outputs": [],
   "source": [
    "for layer in vgg19.layers:\n",
    "    print(layer.name)"
   ]
  },
  {
   "cell_type": "code",
   "execution_count": null,
   "metadata": {
    "collapsed": true
   },
   "outputs": [],
   "source": [
    "block1_conv1 = Model(inputs=vgg19.input, outputs=vgg19.get_layer('block1_conv1').output)\n",
    "block2_conv1 = Model(inputs=vgg19.input, outputs=vgg19.get_layer('block2_conv1').output)\n",
    "block3_conv1 = Model(inputs=vgg19.input, outputs=vgg19.get_layer('block3_conv1').output)\n",
    "block4_conv1 = Model(inputs=vgg19.input, outputs=vgg19.get_layer('block4_conv1').output)\n",
    "block5_conv1 = Model(inputs=vgg19.input, outputs=vgg19.get_layer('block5_conv1').output)\n",
    "\n",
    "\n",
    "F1A = block1_conv1.predict(A)\n",
    "F2A = block2_conv1.predict(A)\n",
    "F3A = block3_conv1.predict(A)\n",
    "F4A = block4_conv1.predict(A)\n",
    "F5A = block5_conv1.predict(A)\n",
    "\n",
    "F1Bp = block1_conv1.predict(Bp)\n",
    "F2Bp = block2_conv1.predict(Bp)\n",
    "F3Bp = block3_conv1.predict(Bp)\n",
    "F4Bp = block4_conv1.predict(Bp)\n",
    "F5Bp = block5_conv1.predict(Bp)\n",
    "\n",
    "F5Aprime, F5B = F5A, F5Bp"
   ]
  },
  {
   "cell_type": "code",
   "execution_count": null,
   "metadata": {
    "collapsed": true
   },
   "outputs": [],
   "source": [
    "print(F1A.shape)\n",
    "print(F2A.shape)\n",
    "print(F3A.shape)\n",
    "print(F4A.shape)\n",
    "print(F5A.shape)"
   ]
  },
  {
   "cell_type": "code",
   "execution_count": null,
   "metadata": {
    "collapsed": true
   },
   "outputs": [],
   "source": [
    "fig = plt.figure(figsize=(16, 24))\n",
    "\n",
    "plt.subplot(3, 3, 1)\n",
    "plt.xlabel('F1A')\n",
    "plt.imshow(F1A[0][:, :, 0], cmap='gray')\n",
    "\n",
    "plt.subplot(3, 3, 2)\n",
    "plt.xlabel('F2A')\n",
    "plt.imshow(F2A[0][:, :, 0], cmap='gray')\n",
    "\n",
    "plt.subplot(3, 3, 3)\n",
    "plt.xlabel('F3A')\n",
    "plt.imshow(F3A[0][:, :, 0], cmap='gray')\n",
    "\n",
    "plt.subplot(3, 3, 4)\n",
    "plt.xlabel('F4A')\n",
    "plt.imshow(F4A[0][:, :, 0], cmap='gray')\n",
    "\n",
    "plt.subplot(3, 3, 5)\n",
    "plt.xlabel('F5A')\n",
    "plt.imshow(F5A[0][:, :, 0], cmap='gray');"
   ]
  },
  {
   "cell_type": "code",
   "execution_count": null,
   "metadata": {},
   "outputs": [],
   "source": [
    "F5A_patches = extract_patches_2d(F5A[0], (3, 3))"
   ]
  },
  {
   "cell_type": "code",
   "execution_count": null,
   "metadata": {
    "collapsed": true
   },
   "outputs": [],
   "source": []
  }
 ],
 "metadata": {
  "kernelspec": {
   "display_name": "Python 3",
   "language": "python",
   "name": "python3"
  },
  "language_info": {
   "codemirror_mode": {
    "name": "ipython",
    "version": 3
   },
   "file_extension": ".py",
   "mimetype": "text/x-python",
   "name": "python",
   "nbconvert_exporter": "python",
   "pygments_lexer": "ipython3",
   "version": "3.6.2"
  }
 },
 "nbformat": 4,
 "nbformat_minor": 2
}
